{
  "nbformat": 4,
  "nbformat_minor": 0,
  "metadata": {
    "colab": {
      "name": "INeuron_Python_Assignment.ipynb",
      "provenance": [],
      "collapsed_sections": []
    },
    "kernelspec": {
      "name": "python3",
      "display_name": "Python 3"
    },
    "language_info": {
      "name": "python"
    }
  },
  "cells": [
    {
      "cell_type": "code",
      "execution_count": 52,
      "metadata": {
        "colab": {
          "base_uri": "https://localhost:8080/"
        },
        "id": "37H8zWsQyIyD",
        "outputId": "73130e7b-41a2-45e2-97e2-7b5a19b87341"
      },
      "outputs": [
        {
          "output_type": "stream",
          "name": "stdout",
          "text": [
            "Number Divided by 7 but not a Multiple of 5 are :  [2002, 2009, 2023, 2037, 2044, 2058, 2072, 2079, 2093, 2107, 2114, 2128, 2142, 2149, 2163, 2177, 2184, 2198, 2212, 2219, 2233, 2247, 2254, 2268, 2282, 2289, 2303, 2317, 2324, 2338, 2352, 2359, 2373, 2387, 2394, 2408, 2422, 2429, 2443, 2457, 2464, 2478, 2492, 2499, 2513, 2527, 2534, 2548, 2562, 2569, 2583, 2597, 2604, 2618, 2632, 2639, 2653, 2667, 2674, 2688, 2702, 2709, 2723, 2737, 2744, 2758, 2772, 2779, 2793, 2807, 2814, 2828, 2842, 2849, 2863, 2877, 2884, 2898, 2912, 2919, 2933, 2947, 2954, 2968, 2982, 2989, 3003, 3017, 3024, 3038, 3052, 3059, 3073, 3087, 3094, 3108, 3122, 3129, 3143, 3157, 3164, 3178, 3192, 3199]\n"
          ]
        }
      ],
      "source": [
        "##Program to print the number divided by 7 but not a multiple of 5 in range between 2000 and 3200 both number included\n",
        "a = []  #list creation\n",
        "for i in range(2000,3201):\n",
        "  if i%7==0:\n",
        "    if i%5>1:\n",
        "      a.append(i)     \n",
        "      \n",
        "print('Number Divided by 7 but not a Multiple of 5 are : ',a)"
      ]
    },
    {
      "cell_type": "code",
      "source": [
        "# Program to take input and print the name in reverse order with space\n",
        "val = input(\"Enter your First Name: \")\n",
        "val1 = input(\"Enter your Last Name: \")\n",
        "print(val1 +' '+ val)\n"
      ],
      "metadata": {
        "colab": {
          "base_uri": "https://localhost:8080/"
        },
        "id": "R9wIZ1i2zbtZ",
        "outputId": "21130ea3-65b9-4b64-f121-ed74e5e7ed36"
      },
      "execution_count": 53,
      "outputs": [
        {
          "output_type": "stream",
          "name": "stdout",
          "text": [
            "Enter your First Name: Jubin\n",
            "Enter your Last Name: George\n",
            "George Jubin\n"
          ]
        }
      ]
    },
    {
      "cell_type": "code",
      "source": [
        "# Program to find the volume of the sphere\n",
        "import math\n",
        "pi = math.pi\n",
        "#Converting Diameter into radius\n",
        "r = float(12/2)\n",
        "V = (float(4/3)*(pi)*(r)**3)\n",
        "print(V)"
      ],
      "metadata": {
        "colab": {
          "base_uri": "https://localhost:8080/"
        },
        "id": "oARE_AtD0ZVv",
        "outputId": "153fc27f-084a-4cf9-ed98-8a128bb46f0e"
      },
      "execution_count": 54,
      "outputs": [
        {
          "output_type": "stream",
          "name": "stdout",
          "text": [
            "904.7786842338603\n"
          ]
        }
      ]
    },
    {
      "cell_type": "code",
      "source": [
        ""
      ],
      "metadata": {
        "id": "EIlfS3caAFDm"
      },
      "execution_count": null,
      "outputs": []
    }
  ]
}